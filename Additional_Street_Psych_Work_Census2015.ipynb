{
 "cells": [
  {
   "cell_type": "markdown",
   "metadata": {
    "toc": true
   },
   "source": [
    "<h1>Table of Contents<span class=\"tocSkip\"></span></h1>\n",
    "<div class=\"toc\"><ul class=\"toc-item\"><li><span><a href=\"#Importing-useful-packages\" data-toc-modified-id=\"Importing-useful-packages-1\"><span class=\"toc-item-num\">1&nbsp;&nbsp;</span>Importing useful packages</a></span></li><li><span><a href=\"#Accessing-Chicago-Census-Data-2015\" data-toc-modified-id=\"Accessing-Chicago-Census-Data-2015-2\"><span class=\"toc-item-num\">2&nbsp;&nbsp;</span>Accessing Chicago Census Data 2015</a></span><ul class=\"toc-item\"><li><span><a href=\"#Block-Groups-and-Basic-Demographic-Data-from-Cook-County-(Chicago,-IL)\" data-toc-modified-id=\"Block-Groups-and-Basic-Demographic-Data-from-Cook-County-(Chicago,-IL)-2.1\"><span class=\"toc-item-num\">2.1&nbsp;&nbsp;</span>Block Groups and Basic Demographic Data from Cook County (Chicago, IL)</a></span><ul class=\"toc-item\"><li><span><a href=\"#Exporting-to-.csv-to-organize-in-Microsoft-Excel\" data-toc-modified-id=\"Exporting-to-.csv-to-organize-in-Microsoft-Excel-2.1.1\"><span class=\"toc-item-num\">2.1.1&nbsp;&nbsp;</span>Exporting to .csv to organize in Microsoft Excel</a></span></li></ul></li></ul></li><li><span><a href=\"#Importing-Data\" data-toc-modified-id=\"Importing-Data-3\"><span class=\"toc-item-num\">3&nbsp;&nbsp;</span>Importing Data</a></span></li></ul></div>"
   ]
  },
  {
   "cell_type": "markdown",
   "metadata": {},
   "source": [
    "### Importing useful packages"
   ]
  },
  {
   "cell_type": "code",
   "execution_count": 136,
   "metadata": {},
   "outputs": [],
   "source": [
    "import numpy as np\n",
    "from scipy.stats import pearsonr\n",
    "import pandas as pd\n",
    "import seaborn as sns\n",
    "import matplotlib.pyplot as plt\n",
    "import statsmodels.api as sm\n",
    "import statsmodels.formula.api as smf\n",
    "from sklearn.preprocessing import StandardScaler \n",
    "import censusdata #pip install CensusData"
   ]
  },
  {
   "cell_type": "code",
   "execution_count": 137,
   "metadata": {},
   "outputs": [],
   "source": [
    "pd.set_option('display.expand_frame_repr', False)\n",
    "pd.set_option('display.precision', 2)"
   ]
  },
  {
   "cell_type": "code",
   "execution_count": null,
   "metadata": {},
   "outputs": [],
   "source": []
  },
  {
   "cell_type": "markdown",
   "metadata": {},
   "source": [
    "### Accessing Chicago Census Data 2015"
   ]
  },
  {
   "cell_type": "markdown",
   "metadata": {},
   "source": [
    "#### Block Groups and Basic Demographic Data from Cook County (Chicago, IL)"
   ]
  },
  {
   "cell_type": "code",
   "execution_count": 170,
   "metadata": {},
   "outputs": [],
   "source": [
    "cookbgdemo = censusdata.download('acs5', 2015,\n",
    "                             censusdata.censusgeo([('state', '17'), ('county', '031'), ('block group', '*')]),\n",
    "                             ['B01001_001E', 'B01002_001E', 'B19013_001E', 'B01001_002E', 'B01002_002E', 'B01001_026E','B01002_003E', \n",
    "                              'B19013_001E', 'B03002_001E', 'B03002_003E', 'B03002_004E', 'B03002_005E', 'B03002_006E', 'B03002_007E',\n",
    "                              'B03002_008E', 'B03002_009E', 'B03002_012E'])\n",
    "cookbgdemo = cookbgdemo.rename(columns={'B01001_001E' : 'TotalPop', 'B01002_001E' : 'TotalMedianAge', 'B01001_002E' : 'MalePop', \n",
    "                                        'B01002_002E' : 'MMedianAge', 'B01001_026E' : 'FemalePop', \n",
    "                                        'B01002_003E' : 'FMedianAge', 'B19013_001E' : 'MedianHHIncome', \n",
    "                                        'B03002_001E' : 'TotalAll', 'B03002_003E' : 'White', 'B03002_004E': 'BlackorAA', \n",
    "                                        'B03002_005E' : 'Native', 'B03002_006E' : 'Asian', 'B03002_007E' : 'PacificIslander', \n",
    "                                        'B03002_008E' : 'Other', 'B03002_009E' : 'TwoPlus', 'B03002_012E' : 'HispanicLatino'})\n",
    "\n",
    "#need to add educational attainment data and income bins next"
   ]
  },
  {
   "cell_type": "markdown",
   "metadata": {},
   "source": [
    "##### Exporting to .csv to organize in Microsoft Excel"
   ]
  },
  {
   "cell_type": "code",
   "execution_count": null,
   "metadata": {},
   "outputs": [],
   "source": [
    "cookbgdemo.to_csv('/Volumes/GNA_SCHOOL_HD/street_psych/Census_Data/censusdemo.csv')"
   ]
  },
  {
   "cell_type": "markdown",
   "metadata": {},
   "source": [
    "### Importing Data"
   ]
  },
  {
   "cell_type": "code",
   "execution_count": null,
   "metadata": {},
   "outputs": [],
   "source": []
  },
  {
   "cell_type": "code",
   "execution_count": null,
   "metadata": {},
   "outputs": [],
   "source": []
  },
  {
   "cell_type": "code",
   "execution_count": null,
   "metadata": {},
   "outputs": [],
   "source": []
  },
  {
   "cell_type": "code",
   "execution_count": null,
   "metadata": {},
   "outputs": [],
   "source": []
  },
  {
   "cell_type": "code",
   "execution_count": null,
   "metadata": {},
   "outputs": [],
   "source": []
  },
  {
   "cell_type": "code",
   "execution_count": null,
   "metadata": {},
   "outputs": [],
   "source": []
  },
  {
   "cell_type": "code",
   "execution_count": null,
   "metadata": {},
   "outputs": [],
   "source": []
  },
  {
   "cell_type": "code",
   "execution_count": null,
   "metadata": {},
   "outputs": [],
   "source": []
  },
  {
   "cell_type": "code",
   "execution_count": null,
   "metadata": {},
   "outputs": [],
   "source": []
  },
  {
   "cell_type": "code",
   "execution_count": null,
   "metadata": {},
   "outputs": [],
   "source": []
  },
  {
   "cell_type": "code",
   "execution_count": null,
   "metadata": {},
   "outputs": [],
   "source": []
  }
 ],
 "metadata": {
  "kernelspec": {
   "display_name": "Python 3",
   "language": "python",
   "name": "python3"
  },
  "language_info": {
   "codemirror_mode": {
    "name": "ipython",
    "version": 3
   },
   "file_extension": ".py",
   "mimetype": "text/x-python",
   "name": "python",
   "nbconvert_exporter": "python",
   "pygments_lexer": "ipython3",
   "version": "3.7.6"
  },
  "toc": {
   "base_numbering": 1,
   "nav_menu": {},
   "number_sections": true,
   "sideBar": true,
   "skip_h1_title": false,
   "title_cell": "Table of Contents",
   "title_sidebar": "Contents",
   "toc_cell": true,
   "toc_position": {},
   "toc_section_display": true,
   "toc_window_display": false
  }
 },
 "nbformat": 4,
 "nbformat_minor": 4
}
